{
 "cells": [
  {
   "cell_type": "code",
   "execution_count": 1,
   "metadata": {},
   "outputs": [],
   "source": [
    "import pandas as pd\n",
    "from utils import create_missing_data\n",
    "from utils.load_dataset import load_eval_columns\n",
    "\n",
    "from dataset_config import MIMICIV_config"
   ]
  },
  {
   "cell_type": "code",
   "execution_count": 2,
   "metadata": {},
   "outputs": [
    {
     "name": "stdout",
     "output_type": "stream",
     "text": [
      "WARNING:tensorflow:From c:\\ProgramData\\anaconda3\\Lib\\site-packages\\keras\\src\\losses.py:2976: The name tf.losses.sparse_softmax_cross_entropy is deprecated. Please use tf.compat.v1.losses.sparse_softmax_cross_entropy instead.\n",
      "\n"
     ]
    }
   ],
   "source": [
    "from imputers.knn import KNN as knn\n",
    "from imputers.mice import MiceImputer as mice\n",
    "from imputers.nnimputer import NeuralNetworkImputer\n",
    "from imputers.ssl_imputer import SSLImputer\n",
    "from evals.eval import Evaluation"
   ]
  },
  {
   "cell_type": "code",
   "execution_count": 20,
   "metadata": {},
   "outputs": [],
   "source": [
    "data = pd.read_csv(\"F:\\\\Jobs\\\\InfAI\\\\INTELLILUNG_2-main\\\\INTELLILUNG_2-main\\\\MIMIC\\\\data\\\\mimiciv_state_vectors.csv\")"
   ]
  },
  {
   "cell_type": "code",
   "execution_count": 3,
   "metadata": {},
   "outputs": [
    {
     "data": {
      "text/plain": [
       "Index(['stay_id', 'mv_id', 'timepoints', 'age', 'blood_be', 'blood_hco3',\n",
       "       'blood_ph', 'drugs_vaso4h', 'vital_map', 'vital_DBP', 'vital_SBP',\n",
       "       'blood_INR', 'blood_PTT', 'daemo_sex', 'daemo_weight', 'daemo_height',\n",
       "       'daemo_discharge', 'ecmo_active', 'blood_calcium', 'blood_chlorid',\n",
       "       'blood_caion', 'blood_magnes', 'blood_potas', 'blood_sodium',\n",
       "       'cum_fluid_balance', 'state_ivfluid4h', 'blood_paco2', 'blood_pao2',\n",
       "       'vent_fio2', 'vital_spo2', 'blood_sao2', 'blood_plat', 'blood_hb',\n",
       "       'blood_hct', 'blood_wbc', 'vital_hr', 'state_bun', 'blood_crea',\n",
       "       'state_urin4h', 'blood_ast', 'blood_alt', 'blood_billi', 'blood_lac',\n",
       "       'blood_gluco', 'state_temp', 'vent_inspexp', 'vent_insp', 'vent_pinsp',\n",
       "       'vent_mairpress', 'vent_mv', 'vent_peep', 'vent_rrtot',\n",
       "       'vent_rrcontrolled', 'vent_rrspont', 'vent_suppress', 'vent_vt',\n",
       "       'vent_vtnorm', 'vent_mode', 'state_airtype', 'daemo_morta',\n",
       "       'episode_id'],\n",
       "      dtype='object')"
      ]
     },
     "execution_count": 3,
     "metadata": {},
     "output_type": "execute_result"
    }
   ],
   "source": [
    "# Dropping columns with 50% missing values\n",
    "col_to_drop = ['ecmo_sweep', 'vital_co', 'is_controlled', 'vent_rsbi', 'blood_ffp', 'blood_prbc', \n",
    "                'blood_album', 'ecmo_rpm', 'ecmo_bloodflow', 'blood_sco2', 'vital_SVRI', 'blood_svo2',\n",
    "                    'vent_etco2', 'vital_mpap', 'blood_smvo2', 'vital_cvp']\n",
    "data = data.drop(columns=col_to_drop)\n",
    "data.columns"
   ]
  },
  {
   "cell_type": "code",
   "execution_count": 5,
   "metadata": {},
   "outputs": [
    {
     "data": {
      "text/plain": [
       "(480060, 56)"
      ]
     },
     "execution_count": 5,
     "metadata": {},
     "output_type": "execute_result"
    }
   ],
   "source": [
    "state_vectors = data.iloc[:, 4:-1] # Dropping the stayid, mv_id, charttime, age and episode_id columns\n",
    "state_vectors.to_csv('mimiciv_missing_data.csv', index=False)\n",
    "state_vectors.shape"
   ]
  },
  {
   "cell_type": "code",
   "execution_count": 6,
   "metadata": {},
   "outputs": [
    {
     "data": {
      "text/plain": [
       "(138021, 56)"
      ]
     },
     "execution_count": 6,
     "metadata": {},
     "output_type": "execute_result"
    }
   ],
   "source": [
    "state_vectors = state_vectors.dropna()\n",
    "state_vectors.to_csv('mimiciv_full_data.csv', index=False)\n",
    "state_vectors.shape\n"
   ]
  },
  {
   "cell_type": "code",
   "execution_count": 3,
   "metadata": {},
   "outputs": [
    {
     "data": {
      "text/plain": [
       "(138021, 56)"
      ]
     },
     "execution_count": 3,
     "metadata": {},
     "output_type": "execute_result"
    }
   ],
   "source": [
    "data_cfg = MIMICIV_config()\n",
    "\n",
    "mimic_data = pd.read_csv(data_cfg.full_data_path)\n",
    "mimic_data.shape"
   ]
  },
  {
   "cell_type": "code",
   "execution_count": 5,
   "metadata": {},
   "outputs": [
    {
     "name": "stdout",
     "output_type": "stream",
     "text": [
      "15\n"
     ]
    }
   ],
   "source": [
    "column_index = mimic_data.columns.get_loc('blood_chlorid')\n",
    "print(column_index)\n"
   ]
  },
  {
   "cell_type": "markdown",
   "metadata": {},
   "source": [
    "### Create Missing dataset\n",
    "##### Params: \n",
    "#####         dataset name, \n",
    "#####         dataset/dataframe, \n",
    "#####         columns in which we need to add missing values, \n",
    "#####         stepped missingness, \n",
    "#####         random missing, \n",
    "#####         percent missing"
   ]
  },
  {
   "cell_type": "code",
   "execution_count": 6,
   "metadata": {},
   "outputs": [
    {
     "name": "stdout",
     "output_type": "stream",
     "text": [
      "Missing Data saved in \"Dataset\" Folder\n"
     ]
    }
   ],
   "source": [
    "create_missing_data.create_missing_dataset(\"mimiciv_blood_chlorid\", mimic_data, mimic_data.columns[15:16], steps=None, random=True, percent=30)"
   ]
  },
  {
   "cell_type": "code",
   "execution_count": 5,
   "metadata": {},
   "outputs": [
    {
     "data": {
      "text/plain": [
       "'dataset/mimiciv_blood_chlorid_w_missing_values_random.csv'"
      ]
     },
     "execution_count": 5,
     "metadata": {},
     "output_type": "execute_result"
    }
   ],
   "source": [
    "data_cfg.missing_data_path"
   ]
  },
  {
   "cell_type": "code",
   "execution_count": 4,
   "metadata": {},
   "outputs": [
    {
     "data": {
      "text/plain": [
       "(138021, 56)"
      ]
     },
     "execution_count": 4,
     "metadata": {},
     "output_type": "execute_result"
    }
   ],
   "source": [
    "test_data = pd.read_csv(data_cfg.missing_data_path)\n",
    "test_data.shape"
   ]
  },
  {
   "cell_type": "markdown",
   "metadata": {},
   "source": [
    "##### For data having missing values in more than one columns and you want to use the GRU based imputation, please refer the main.py"
   ]
  },
  {
   "cell_type": "code",
   "execution_count": 6,
   "metadata": {},
   "outputs": [
    {
     "name": "stderr",
     "output_type": "stream",
     "text": [
      "Imputing: 100%|██████████| 138021/138021 [00:23<00:00, 5838.49rows/s]\n"
     ]
    },
    {
     "name": "stdout",
     "output_type": "stream",
     "text": [
      "Saving the imputed data \n",
      "\n",
      "Imputed Data saved at location \"dataset/mimiciv_blood_chlorid_imp_mice.csv\"\n"
     ]
    }
   ],
   "source": [
    "#knn.impute_data(test_data, data_cfg)\n",
    "mice.mice_impute(test_data, data_cfg)"
   ]
  },
  {
   "cell_type": "code",
   "execution_count": 7,
   "metadata": {},
   "outputs": [
    {
     "name": "stdout",
     "output_type": "stream",
     "text": [
      "mf\n",
      "Saving the imputed data \n",
      "\n",
      "Imputed Data saved at location \"dataset/mimiciv_blood_chlorid_imp_miceforest.csv\"\n"
     ]
    }
   ],
   "source": [
    "mice.mice_forest(test_data, data_cfg)"
   ]
  },
  {
   "cell_type": "code",
   "execution_count": 8,
   "metadata": {},
   "outputs": [
    {
     "name": "stdout",
     "output_type": "stream",
     "text": [
      "WARNING:tensorflow:From c:\\ProgramData\\anaconda3\\Lib\\site-packages\\keras\\src\\backend.py:873: The name tf.get_default_graph is deprecated. Please use tf.compat.v1.get_default_graph instead.\n",
      "\n",
      "Training Started...\n",
      "\n",
      "Epoch 1/50\n",
      "WARNING:tensorflow:From c:\\ProgramData\\anaconda3\\Lib\\site-packages\\keras\\src\\utils\\tf_utils.py:492: The name tf.ragged.RaggedTensorValue is deprecated. Please use tf.compat.v1.ragged.RaggedTensorValue instead.\n",
      "\n",
      "3416/3451 [============================>.] - ETA: 0s - loss: 0.7685 - root_mean_squared_error: 0.8767 - r2_score: 0.2314INFO:tensorflow:Assets written to: AEModels/MIMICIV_model_240424_145624\\assets\n"
     ]
    },
    {
     "name": "stderr",
     "output_type": "stream",
     "text": [
      "INFO:tensorflow:Assets written to: AEModels/MIMICIV_model_240424_145624\\assets\n"
     ]
    },
    {
     "name": "stdout",
     "output_type": "stream",
     "text": [
      "3451/3451 [==============================] - 6s 2ms/step - loss: 0.7668 - root_mean_squared_error: 0.8757 - r2_score: 0.2332 - val_loss: 0.5742 - val_root_mean_squared_error: 0.7578 - val_r2_score: 0.4110\n",
      "Epoch 2/50\n",
      "3427/3451 [============================>.] - ETA: 0s - loss: 0.4889 - root_mean_squared_error: 0.6992 - r2_score: 0.5114INFO:tensorflow:Assets written to: AEModels/MIMICIV_model_240424_145624\\assets\n"
     ]
    },
    {
     "name": "stderr",
     "output_type": "stream",
     "text": [
      "INFO:tensorflow:Assets written to: AEModels/MIMICIV_model_240424_145624\\assets\n"
     ]
    },
    {
     "name": "stdout",
     "output_type": "stream",
     "text": [
      "3451/3451 [==============================] - 5s 1ms/step - loss: 0.4881 - root_mean_squared_error: 0.6987 - r2_score: 0.5119 - val_loss: 0.4024 - val_root_mean_squared_error: 0.6343 - val_r2_score: 0.5850\n",
      "Epoch 3/50\n",
      "3404/3451 [============================>.] - ETA: 0s - loss: 0.3687 - root_mean_squared_error: 0.6072 - r2_score: 0.6284INFO:tensorflow:Assets written to: AEModels/MIMICIV_model_240424_145624\\assets\n"
     ]
    },
    {
     "name": "stderr",
     "output_type": "stream",
     "text": [
      "INFO:tensorflow:Assets written to: AEModels/MIMICIV_model_240424_145624\\assets\n"
     ]
    },
    {
     "name": "stdout",
     "output_type": "stream",
     "text": [
      "3451/3451 [==============================] - 5s 1ms/step - loss: 0.3712 - root_mean_squared_error: 0.6092 - r2_score: 0.6288 - val_loss: 0.3185 - val_root_mean_squared_error: 0.5644 - val_r2_score: 0.6679\n",
      "Epoch 4/50\n",
      "3404/3451 [============================>.] - ETA: 0s - loss: 0.3024 - root_mean_squared_error: 0.5499 - r2_score: 0.6972INFO:tensorflow:Assets written to: AEModels/MIMICIV_model_240424_145624\\assets\n"
     ]
    },
    {
     "name": "stderr",
     "output_type": "stream",
     "text": [
      "INFO:tensorflow:Assets written to: AEModels/MIMICIV_model_240424_145624\\assets\n"
     ]
    },
    {
     "name": "stdout",
     "output_type": "stream",
     "text": [
      "3451/3451 [==============================] - 5s 1ms/step - loss: 0.3024 - root_mean_squared_error: 0.5499 - r2_score: 0.6976 - val_loss: 0.2634 - val_root_mean_squared_error: 0.5132 - val_r2_score: 0.7238\n",
      "Epoch 5/50\n",
      "3409/3451 [============================>.] - ETA: 0s - loss: 0.2559 - root_mean_squared_error: 0.5059 - r2_score: 0.7427INFO:tensorflow:Assets written to: AEModels/MIMICIV_model_240424_145624\\assets\n"
     ]
    },
    {
     "name": "stderr",
     "output_type": "stream",
     "text": [
      "INFO:tensorflow:Assets written to: AEModels/MIMICIV_model_240424_145624\\assets\n"
     ]
    },
    {
     "name": "stdout",
     "output_type": "stream",
     "text": [
      "3451/3451 [==============================] - 5s 1ms/step - loss: 0.2571 - root_mean_squared_error: 0.5070 - r2_score: 0.7429 - val_loss: 0.2259 - val_root_mean_squared_error: 0.4753 - val_r2_score: 0.7619\n",
      "Epoch 6/50\n",
      "3450/3451 [============================>.] - ETA: 0s - loss: 0.2248 - root_mean_squared_error: 0.4741 - r2_score: 0.7753INFO:tensorflow:Assets written to: AEModels/MIMICIV_model_240424_145624\\assets\n"
     ]
    },
    {
     "name": "stderr",
     "output_type": "stream",
     "text": [
      "INFO:tensorflow:Assets written to: AEModels/MIMICIV_model_240424_145624\\assets\n"
     ]
    },
    {
     "name": "stdout",
     "output_type": "stream",
     "text": [
      "3451/3451 [==============================] - 5s 1ms/step - loss: 0.2247 - root_mean_squared_error: 0.4741 - r2_score: 0.7753 - val_loss: 0.1977 - val_root_mean_squared_error: 0.4446 - val_r2_score: 0.7913\n",
      "Epoch 7/50\n",
      "3445/3451 [============================>.] - ETA: 0s - loss: 0.2000 - root_mean_squared_error: 0.4473 - r2_score: 0.8001INFO:tensorflow:Assets written to: AEModels/MIMICIV_model_240424_145624\\assets\n"
     ]
    },
    {
     "name": "stderr",
     "output_type": "stream",
     "text": [
      "INFO:tensorflow:Assets written to: AEModels/MIMICIV_model_240424_145624\\assets\n"
     ]
    },
    {
     "name": "stdout",
     "output_type": "stream",
     "text": [
      "3451/3451 [==============================] - 5s 1ms/step - loss: 0.1999 - root_mean_squared_error: 0.4471 - r2_score: 0.8001 - val_loss: 0.1754 - val_root_mean_squared_error: 0.4188 - val_r2_score: 0.8146\n",
      "Epoch 8/50\n",
      "3437/3451 [============================>.] - ETA: 0s - loss: 0.1799 - root_mean_squared_error: 0.4242 - r2_score: 0.8202INFO:tensorflow:Assets written to: AEModels/MIMICIV_model_240424_145624\\assets\n"
     ]
    },
    {
     "name": "stderr",
     "output_type": "stream",
     "text": [
      "INFO:tensorflow:Assets written to: AEModels/MIMICIV_model_240424_145624\\assets\n"
     ]
    },
    {
     "name": "stdout",
     "output_type": "stream",
     "text": [
      "3451/3451 [==============================] - 5s 1ms/step - loss: 0.1797 - root_mean_squared_error: 0.4239 - r2_score: 0.8203 - val_loss: 0.1571 - val_root_mean_squared_error: 0.3963 - val_r2_score: 0.8335\n",
      "Epoch 9/50\n",
      "3409/3451 [============================>.] - ETA: 0s - loss: 0.1637 - root_mean_squared_error: 0.4045 - r2_score: 0.8368INFO:tensorflow:Assets written to: AEModels/MIMICIV_model_240424_145624\\assets\n"
     ]
    },
    {
     "name": "stderr",
     "output_type": "stream",
     "text": [
      "INFO:tensorflow:Assets written to: AEModels/MIMICIV_model_240424_145624\\assets\n"
     ]
    },
    {
     "name": "stdout",
     "output_type": "stream",
     "text": [
      "3451/3451 [==============================] - 5s 1ms/step - loss: 0.1631 - root_mean_squared_error: 0.4038 - r2_score: 0.8369 - val_loss: 0.1415 - val_root_mean_squared_error: 0.3761 - val_r2_score: 0.8496\n",
      "Epoch 10/50\n",
      "3421/3451 [============================>.] - ETA: 0s - loss: 0.1487 - root_mean_squared_error: 0.3856 - r2_score: 0.8516INFO:tensorflow:Assets written to: AEModels/MIMICIV_model_240424_145624\\assets\n"
     ]
    },
    {
     "name": "stderr",
     "output_type": "stream",
     "text": [
      "INFO:tensorflow:Assets written to: AEModels/MIMICIV_model_240424_145624\\assets\n"
     ]
    },
    {
     "name": "stdout",
     "output_type": "stream",
     "text": [
      "3451/3451 [==============================] - 5s 1ms/step - loss: 0.1483 - root_mean_squared_error: 0.3851 - r2_score: 0.8517 - val_loss: 0.1274 - val_root_mean_squared_error: 0.3570 - val_r2_score: 0.8639\n",
      "Epoch 11/50\n",
      "3417/3451 [============================>.] - ETA: 0s - loss: 0.1356 - root_mean_squared_error: 0.3683 - r2_score: 0.8648INFO:tensorflow:Assets written to: AEModels/MIMICIV_model_240424_145624\\assets\n"
     ]
    },
    {
     "name": "stderr",
     "output_type": "stream",
     "text": [
      "INFO:tensorflow:Assets written to: AEModels/MIMICIV_model_240424_145624\\assets\n"
     ]
    },
    {
     "name": "stdout",
     "output_type": "stream",
     "text": [
      "3451/3451 [==============================] - 5s 1ms/step - loss: 0.1351 - root_mean_squared_error: 0.3676 - r2_score: 0.8649 - val_loss: 0.1151 - val_root_mean_squared_error: 0.3392 - val_r2_score: 0.8761\n",
      "Epoch 12/50\n",
      "3430/3451 [============================>.] - ETA: 0s - loss: 0.1234 - root_mean_squared_error: 0.3513 - r2_score: 0.8765INFO:tensorflow:Assets written to: AEModels/MIMICIV_model_240424_145624\\assets\n"
     ]
    },
    {
     "name": "stderr",
     "output_type": "stream",
     "text": [
      "INFO:tensorflow:Assets written to: AEModels/MIMICIV_model_240424_145624\\assets\n"
     ]
    },
    {
     "name": "stdout",
     "output_type": "stream",
     "text": [
      "3451/3451 [==============================] - 5s 1ms/step - loss: 0.1237 - root_mean_squared_error: 0.3517 - r2_score: 0.8763 - val_loss: 0.1047 - val_root_mean_squared_error: 0.3236 - val_r2_score: 0.8867\n",
      "Epoch 13/50\n",
      "3428/3451 [============================>.] - ETA: 0s - loss: 0.1144 - root_mean_squared_error: 0.3383 - r2_score: 0.8858INFO:tensorflow:Assets written to: AEModels/MIMICIV_model_240424_145624\\assets\n"
     ]
    },
    {
     "name": "stderr",
     "output_type": "stream",
     "text": [
      "INFO:tensorflow:Assets written to: AEModels/MIMICIV_model_240424_145624\\assets\n"
     ]
    },
    {
     "name": "stdout",
     "output_type": "stream",
     "text": [
      "3451/3451 [==============================] - 5s 1ms/step - loss: 0.1142 - root_mean_squared_error: 0.3379 - r2_score: 0.8858 - val_loss: 0.0960 - val_root_mean_squared_error: 0.3099 - val_r2_score: 0.8957\n",
      "Epoch 14/50\n",
      "3415/3451 [============================>.] - ETA: 0s - loss: 0.1024 - root_mean_squared_error: 0.3200 - r2_score: 0.8944INFO:tensorflow:Assets written to: AEModels/MIMICIV_model_240424_145624\\assets\n"
     ]
    },
    {
     "name": "stderr",
     "output_type": "stream",
     "text": [
      "INFO:tensorflow:Assets written to: AEModels/MIMICIV_model_240424_145624\\assets\n"
     ]
    },
    {
     "name": "stdout",
     "output_type": "stream",
     "text": [
      "3451/3451 [==============================] - 5s 1ms/step - loss: 0.1061 - root_mean_squared_error: 0.3258 - r2_score: 0.8939 - val_loss: 0.0888 - val_root_mean_squared_error: 0.2980 - val_r2_score: 0.8998\n",
      "Epoch 15/50\n",
      "3451/3451 [==============================] - ETA: 0s - loss: 0.0991 - root_mean_squared_error: 0.3147 - r2_score: 0.9009INFO:tensorflow:Assets written to: AEModels/MIMICIV_model_240424_145624\\assets\n"
     ]
    },
    {
     "name": "stderr",
     "output_type": "stream",
     "text": [
      "INFO:tensorflow:Assets written to: AEModels/MIMICIV_model_240424_145624\\assets\n"
     ]
    },
    {
     "name": "stdout",
     "output_type": "stream",
     "text": [
      "3451/3451 [==============================] - 5s 1ms/step - loss: 0.0991 - root_mean_squared_error: 0.3147 - r2_score: 0.9009 - val_loss: 0.0816 - val_root_mean_squared_error: 0.2856 - val_r2_score: 0.9107\n",
      "Epoch 16/50\n",
      "3409/3451 [============================>.] - ETA: 0s - loss: 0.0931 - root_mean_squared_error: 0.3052 - r2_score: 0.9073INFO:tensorflow:Assets written to: AEModels/MIMICIV_model_240424_145624\\assets\n"
     ]
    },
    {
     "name": "stderr",
     "output_type": "stream",
     "text": [
      "INFO:tensorflow:Assets written to: AEModels/MIMICIV_model_240424_145624\\assets\n"
     ]
    },
    {
     "name": "stdout",
     "output_type": "stream",
     "text": [
      "3451/3451 [==============================] - 5s 1ms/step - loss: 0.0927 - root_mean_squared_error: 0.3044 - r2_score: 0.9073 - val_loss: 0.0755 - val_root_mean_squared_error: 0.2747 - val_r2_score: 0.9168\n",
      "Epoch 17/50\n",
      "3407/3451 [============================>.] - ETA: 0s - loss: 0.0874 - root_mean_squared_error: 0.2957 - r2_score: 0.9129INFO:tensorflow:Assets written to: AEModels/MIMICIV_model_240424_145624\\assets\n"
     ]
    },
    {
     "name": "stderr",
     "output_type": "stream",
     "text": [
      "INFO:tensorflow:Assets written to: AEModels/MIMICIV_model_240424_145624\\assets\n"
     ]
    },
    {
     "name": "stdout",
     "output_type": "stream",
     "text": [
      "3451/3451 [==============================] - 5s 1ms/step - loss: 0.0870 - root_mean_squared_error: 0.2950 - r2_score: 0.9130 - val_loss: 0.0701 - val_root_mean_squared_error: 0.2647 - val_r2_score: 0.9220\n",
      "Epoch 18/50\n",
      "3407/3451 [============================>.] - ETA: 0s - loss: 0.0820 - root_mean_squared_error: 0.2864 - r2_score: 0.9181INFO:tensorflow:Assets written to: AEModels/MIMICIV_model_240424_145624\\assets\n"
     ]
    },
    {
     "name": "stderr",
     "output_type": "stream",
     "text": [
      "INFO:tensorflow:Assets written to: AEModels/MIMICIV_model_240424_145624\\assets\n"
     ]
    },
    {
     "name": "stdout",
     "output_type": "stream",
     "text": [
      "3451/3451 [==============================] - 5s 1ms/step - loss: 0.0821 - root_mean_squared_error: 0.2866 - r2_score: 0.9179 - val_loss: 0.0655 - val_root_mean_squared_error: 0.2560 - val_r2_score: 0.9264\n",
      "Epoch 19/50\n",
      "3406/3451 [============================>.] - ETA: 0s - loss: 0.0783 - root_mean_squared_error: 0.2798 - r2_score: 0.9220INFO:tensorflow:Assets written to: AEModels/MIMICIV_model_240424_145624\\assets\n"
     ]
    },
    {
     "name": "stderr",
     "output_type": "stream",
     "text": [
      "INFO:tensorflow:Assets written to: AEModels/MIMICIV_model_240424_145624\\assets\n"
     ]
    },
    {
     "name": "stdout",
     "output_type": "stream",
     "text": [
      "3451/3451 [==============================] - 5s 1ms/step - loss: 0.0781 - root_mean_squared_error: 0.2794 - r2_score: 0.9219 - val_loss: 0.0617 - val_root_mean_squared_error: 0.2484 - val_r2_score: 0.9305\n",
      "Epoch 20/50\n",
      "3450/3451 [============================>.] - ETA: 0s - loss: 0.0746 - root_mean_squared_error: 0.2732 - r2_score: 0.9254INFO:tensorflow:Assets written to: AEModels/MIMICIV_model_240424_145624\\assets\n"
     ]
    },
    {
     "name": "stderr",
     "output_type": "stream",
     "text": [
      "INFO:tensorflow:Assets written to: AEModels/MIMICIV_model_240424_145624\\assets\n"
     ]
    },
    {
     "name": "stdout",
     "output_type": "stream",
     "text": [
      "3451/3451 [==============================] - 5s 1ms/step - loss: 0.0746 - root_mean_squared_error: 0.2732 - r2_score: 0.9254 - val_loss: 0.0585 - val_root_mean_squared_error: 0.2419 - val_r2_score: 0.9336\n",
      "Epoch 21/50\n",
      "3432/3451 [============================>.] - ETA: 0s - loss: 0.0720 - root_mean_squared_error: 0.2683 - r2_score: 0.9282INFO:tensorflow:Assets written to: AEModels/MIMICIV_model_240424_145624\\assets\n"
     ]
    },
    {
     "name": "stderr",
     "output_type": "stream",
     "text": [
      "INFO:tensorflow:Assets written to: AEModels/MIMICIV_model_240424_145624\\assets\n"
     ]
    },
    {
     "name": "stdout",
     "output_type": "stream",
     "text": [
      "3451/3451 [==============================] - 5s 1ms/step - loss: 0.0718 - root_mean_squared_error: 0.2679 - r2_score: 0.9282 - val_loss: 0.0558 - val_root_mean_squared_error: 0.2362 - val_r2_score: 0.9363\n",
      "Epoch 22/50\n",
      "3433/3451 [============================>.] - ETA: 0s - loss: 0.0694 - root_mean_squared_error: 0.2634 - r2_score: 0.9306INFO:tensorflow:Assets written to: AEModels/MIMICIV_model_240424_145624\\assets\n"
     ]
    },
    {
     "name": "stderr",
     "output_type": "stream",
     "text": [
      "INFO:tensorflow:Assets written to: AEModels/MIMICIV_model_240424_145624\\assets\n"
     ]
    },
    {
     "name": "stdout",
     "output_type": "stream",
     "text": [
      "3451/3451 [==============================] - 5s 2ms/step - loss: 0.0694 - root_mean_squared_error: 0.2634 - r2_score: 0.9306 - val_loss: 0.0535 - val_root_mean_squared_error: 0.2312 - val_r2_score: 0.9385\n",
      "Epoch 23/50\n",
      "3408/3451 [============================>.] - ETA: 0s - loss: 0.0676 - root_mean_squared_error: 0.2600 - r2_score: 0.9327INFO:tensorflow:Assets written to: AEModels/MIMICIV_model_240424_145624\\assets\n"
     ]
    },
    {
     "name": "stderr",
     "output_type": "stream",
     "text": [
      "INFO:tensorflow:Assets written to: AEModels/MIMICIV_model_240424_145624\\assets\n"
     ]
    },
    {
     "name": "stdout",
     "output_type": "stream",
     "text": [
      "3451/3451 [==============================] - 5s 1ms/step - loss: 0.0672 - root_mean_squared_error: 0.2592 - r2_score: 0.9328 - val_loss: 0.0513 - val_root_mean_squared_error: 0.2264 - val_r2_score: 0.9409\n",
      "Epoch 24/50\n",
      "3444/3451 [============================>.] - ETA: 0s - loss: 0.0651 - root_mean_squared_error: 0.2551 - r2_score: 0.9350INFO:tensorflow:Assets written to: AEModels/MIMICIV_model_240424_145624\\assets\n"
     ]
    },
    {
     "name": "stderr",
     "output_type": "stream",
     "text": [
      "INFO:tensorflow:Assets written to: AEModels/MIMICIV_model_240424_145624\\assets\n"
     ]
    },
    {
     "name": "stdout",
     "output_type": "stream",
     "text": [
      "3451/3451 [==============================] - 5s 1ms/step - loss: 0.0650 - root_mean_squared_error: 0.2550 - r2_score: 0.9350 - val_loss: 0.0490 - val_root_mean_squared_error: 0.2214 - val_r2_score: 0.9431\n",
      "Epoch 25/50\n",
      "3414/3451 [============================>.] - ETA: 0s - loss: 0.0626 - root_mean_squared_error: 0.2503 - r2_score: 0.9372INFO:tensorflow:Assets written to: AEModels/MIMICIV_model_240424_145624\\assets\n"
     ]
    },
    {
     "name": "stderr",
     "output_type": "stream",
     "text": [
      "INFO:tensorflow:Assets written to: AEModels/MIMICIV_model_240424_145624\\assets\n"
     ]
    },
    {
     "name": "stdout",
     "output_type": "stream",
     "text": [
      "3451/3451 [==============================] - 5s 1ms/step - loss: 0.0628 - root_mean_squared_error: 0.2505 - r2_score: 0.9372 - val_loss: 0.0467 - val_root_mean_squared_error: 0.2161 - val_r2_score: 0.9454\n",
      "Epoch 26/50\n",
      "3415/3451 [============================>.] - ETA: 0s - loss: 0.0610 - root_mean_squared_error: 0.2470 - r2_score: 0.9393INFO:tensorflow:Assets written to: AEModels/MIMICIV_model_240424_145624\\assets\n"
     ]
    },
    {
     "name": "stderr",
     "output_type": "stream",
     "text": [
      "INFO:tensorflow:Assets written to: AEModels/MIMICIV_model_240424_145624\\assets\n"
     ]
    },
    {
     "name": "stdout",
     "output_type": "stream",
     "text": [
      "3451/3451 [==============================] - 5s 1ms/step - loss: 0.0607 - root_mean_squared_error: 0.2463 - r2_score: 0.9393 - val_loss: 0.0447 - val_root_mean_squared_error: 0.2114 - val_r2_score: 0.9474\n",
      "Epoch 27/50\n",
      "3449/3451 [============================>.] - ETA: 0s - loss: 0.0590 - root_mean_squared_error: 0.2429 - r2_score: 0.9410INFO:tensorflow:Assets written to: AEModels/MIMICIV_model_240424_145624\\assets\n"
     ]
    },
    {
     "name": "stderr",
     "output_type": "stream",
     "text": [
      "INFO:tensorflow:Assets written to: AEModels/MIMICIV_model_240424_145624\\assets\n"
     ]
    },
    {
     "name": "stdout",
     "output_type": "stream",
     "text": [
      "3451/3451 [==============================] - 5s 1ms/step - loss: 0.0590 - root_mean_squared_error: 0.2429 - r2_score: 0.9410 - val_loss: 0.0433 - val_root_mean_squared_error: 0.2080 - val_r2_score: 0.9488\n",
      "Epoch 28/50\n",
      "3439/3451 [============================>.] - ETA: 0s - loss: 0.0578 - root_mean_squared_error: 0.2403 - r2_score: 0.9423INFO:tensorflow:Assets written to: AEModels/MIMICIV_model_240424_145624\\assets\n"
     ]
    },
    {
     "name": "stderr",
     "output_type": "stream",
     "text": [
      "INFO:tensorflow:Assets written to: AEModels/MIMICIV_model_240424_145624\\assets\n"
     ]
    },
    {
     "name": "stdout",
     "output_type": "stream",
     "text": [
      "3451/3451 [==============================] - 5s 1ms/step - loss: 0.0577 - root_mean_squared_error: 0.2402 - r2_score: 0.9423 - val_loss: 0.0420 - val_root_mean_squared_error: 0.2050 - val_r2_score: 0.9500\n",
      "Epoch 29/50\n",
      "3423/3451 [============================>.] - ETA: 0s - loss: 0.0568 - root_mean_squared_error: 0.2383 - r2_score: 0.9434INFO:tensorflow:Assets written to: AEModels/MIMICIV_model_240424_145624\\assets\n"
     ]
    },
    {
     "name": "stderr",
     "output_type": "stream",
     "text": [
      "INFO:tensorflow:Assets written to: AEModels/MIMICIV_model_240424_145624\\assets\n"
     ]
    },
    {
     "name": "stdout",
     "output_type": "stream",
     "text": [
      "3451/3451 [==============================] - 5s 1ms/step - loss: 0.0565 - root_mean_squared_error: 0.2378 - r2_score: 0.9435 - val_loss: 0.0408 - val_root_mean_squared_error: 0.2020 - val_r2_score: 0.9512\n",
      "Epoch 30/50\n",
      "3433/3451 [============================>.] - ETA: 0s - loss: 0.0556 - root_mean_squared_error: 0.2357 - r2_score: 0.9446INFO:tensorflow:Assets written to: AEModels/MIMICIV_model_240424_145624\\assets\n"
     ]
    },
    {
     "name": "stderr",
     "output_type": "stream",
     "text": [
      "INFO:tensorflow:Assets written to: AEModels/MIMICIV_model_240424_145624\\assets\n"
     ]
    },
    {
     "name": "stdout",
     "output_type": "stream",
     "text": [
      "3451/3451 [==============================] - 5s 1ms/step - loss: 0.0554 - root_mean_squared_error: 0.2354 - r2_score: 0.9446 - val_loss: 0.0397 - val_root_mean_squared_error: 0.1993 - val_r2_score: 0.9522\n",
      "Epoch 31/50\n",
      "3411/3451 [============================>.] - ETA: 0s - loss: 0.0547 - root_mean_squared_error: 0.2340 - r2_score: 0.9456INFO:tensorflow:Assets written to: AEModels/MIMICIV_model_240424_145624\\assets\n"
     ]
    },
    {
     "name": "stderr",
     "output_type": "stream",
     "text": [
      "INFO:tensorflow:Assets written to: AEModels/MIMICIV_model_240424_145624\\assets\n"
     ]
    },
    {
     "name": "stdout",
     "output_type": "stream",
     "text": [
      "3451/3451 [==============================] - 5s 1ms/step - loss: 0.0544 - root_mean_squared_error: 0.2332 - r2_score: 0.9456 - val_loss: 0.0386 - val_root_mean_squared_error: 0.1966 - val_r2_score: 0.9534\n",
      "Epoch 32/50\n",
      "3414/3451 [============================>.] - ETA: 0s - loss: 0.0536 - root_mean_squared_error: 0.2316 - r2_score: 0.9466INFO:tensorflow:Assets written to: AEModels/MIMICIV_model_240424_145624\\assets\n"
     ]
    },
    {
     "name": "stderr",
     "output_type": "stream",
     "text": [
      "INFO:tensorflow:Assets written to: AEModels/MIMICIV_model_240424_145624\\assets\n"
     ]
    },
    {
     "name": "stdout",
     "output_type": "stream",
     "text": [
      "3451/3451 [==============================] - 5s 1ms/step - loss: 0.0533 - root_mean_squared_error: 0.2309 - r2_score: 0.9467 - val_loss: 0.0378 - val_root_mean_squared_error: 0.1944 - val_r2_score: 0.9541\n",
      "Epoch 33/50\n",
      "3412/3451 [============================>.] - ETA: 0s - loss: 0.0522 - root_mean_squared_error: 0.2284 - r2_score: 0.9477INFO:tensorflow:Assets written to: AEModels/MIMICIV_model_240424_145624\\assets\n"
     ]
    },
    {
     "name": "stderr",
     "output_type": "stream",
     "text": [
      "INFO:tensorflow:Assets written to: AEModels/MIMICIV_model_240424_145624\\assets\n"
     ]
    },
    {
     "name": "stdout",
     "output_type": "stream",
     "text": [
      "3451/3451 [==============================] - 5s 1ms/step - loss: 0.0522 - root_mean_squared_error: 0.2285 - r2_score: 0.9478 - val_loss: 0.0365 - val_root_mean_squared_error: 0.1910 - val_r2_score: 0.9555\n",
      "Epoch 34/50\n",
      "3415/3451 [============================>.] - ETA: 0s - loss: 0.0514 - root_mean_squared_error: 0.2267 - r2_score: 0.9489INFO:tensorflow:Assets written to: AEModels/MIMICIV_model_240424_145624\\assets\n"
     ]
    },
    {
     "name": "stderr",
     "output_type": "stream",
     "text": [
      "INFO:tensorflow:Assets written to: AEModels/MIMICIV_model_240424_145624\\assets\n"
     ]
    },
    {
     "name": "stdout",
     "output_type": "stream",
     "text": [
      "3451/3451 [==============================] - 5s 1ms/step - loss: 0.0511 - root_mean_squared_error: 0.2261 - r2_score: 0.9489 - val_loss: 0.0355 - val_root_mean_squared_error: 0.1884 - val_r2_score: 0.9565\n",
      "Epoch 35/50\n",
      "3429/3451 [============================>.] - ETA: 0s - loss: 0.0501 - root_mean_squared_error: 0.2238 - r2_score: 0.9500INFO:tensorflow:Assets written to: AEModels/MIMICIV_model_240424_145624\\assets\n"
     ]
    },
    {
     "name": "stderr",
     "output_type": "stream",
     "text": [
      "INFO:tensorflow:Assets written to: AEModels/MIMICIV_model_240424_145624\\assets\n"
     ]
    },
    {
     "name": "stdout",
     "output_type": "stream",
     "text": [
      "3451/3451 [==============================] - 5s 1ms/step - loss: 0.0500 - root_mean_squared_error: 0.2237 - r2_score: 0.9500 - val_loss: 0.0347 - val_root_mean_squared_error: 0.1863 - val_r2_score: 0.9571\n",
      "Epoch 36/50\n",
      "3421/3451 [============================>.] - ETA: 0s - loss: 0.0493 - root_mean_squared_error: 0.2220 - r2_score: 0.9509INFO:tensorflow:Assets written to: AEModels/MIMICIV_model_240424_145624\\assets\n"
     ]
    },
    {
     "name": "stderr",
     "output_type": "stream",
     "text": [
      "INFO:tensorflow:Assets written to: AEModels/MIMICIV_model_240424_145624\\assets\n"
     ]
    },
    {
     "name": "stdout",
     "output_type": "stream",
     "text": [
      "3451/3451 [==============================] - 5s 1ms/step - loss: 0.0491 - root_mean_squared_error: 0.2215 - r2_score: 0.9509 - val_loss: 0.0335 - val_root_mean_squared_error: 0.1831 - val_r2_score: 0.9583\n",
      "Epoch 37/50\n",
      "3441/3451 [============================>.] - ETA: 0s - loss: 0.0482 - root_mean_squared_error: 0.2194 - r2_score: 0.9519INFO:tensorflow:Assets written to: AEModels/MIMICIV_model_240424_145624\\assets\n"
     ]
    },
    {
     "name": "stderr",
     "output_type": "stream",
     "text": [
      "INFO:tensorflow:Assets written to: AEModels/MIMICIV_model_240424_145624\\assets\n"
     ]
    },
    {
     "name": "stdout",
     "output_type": "stream",
     "text": [
      "3451/3451 [==============================] - 5s 1ms/step - loss: 0.0481 - root_mean_squared_error: 0.2192 - r2_score: 0.9519 - val_loss: 0.0325 - val_root_mean_squared_error: 0.1804 - val_r2_score: 0.9592\n",
      "Epoch 38/50\n",
      "3432/3451 [============================>.] - ETA: 0s - loss: 0.0473 - root_mean_squared_error: 0.2174 - r2_score: 0.9529INFO:tensorflow:Assets written to: AEModels/MIMICIV_model_240424_145624\\assets\n"
     ]
    },
    {
     "name": "stderr",
     "output_type": "stream",
     "text": [
      "INFO:tensorflow:Assets written to: AEModels/MIMICIV_model_240424_145624\\assets\n"
     ]
    },
    {
     "name": "stdout",
     "output_type": "stream",
     "text": [
      "3451/3451 [==============================] - 5s 1ms/step - loss: 0.0471 - root_mean_squared_error: 0.2171 - r2_score: 0.9529 - val_loss: 0.0318 - val_root_mean_squared_error: 0.1784 - val_r2_score: 0.9600\n",
      "Epoch 39/50\n",
      "3439/3451 [============================>.] - ETA: 0s - loss: 0.0462 - root_mean_squared_error: 0.2150 - r2_score: 0.9539INFO:tensorflow:Assets written to: AEModels/MIMICIV_model_240424_145624\\assets\n"
     ]
    },
    {
     "name": "stderr",
     "output_type": "stream",
     "text": [
      "INFO:tensorflow:Assets written to: AEModels/MIMICIV_model_240424_145624\\assets\n"
     ]
    },
    {
     "name": "stdout",
     "output_type": "stream",
     "text": [
      "3451/3451 [==============================] - 5s 1ms/step - loss: 0.0461 - root_mean_squared_error: 0.2148 - r2_score: 0.9539 - val_loss: 0.0308 - val_root_mean_squared_error: 0.1755 - val_r2_score: 0.9609\n",
      "Epoch 40/50\n",
      "3451/3451 [==============================] - 4s 1ms/step - loss: 0.0451 - root_mean_squared_error: 0.2124 - r2_score: 0.9549 - val_loss: 0.0310 - val_root_mean_squared_error: 0.1761 - val_r2_score: 0.9608\n",
      "Epoch 41/50\n",
      "3423/3451 [============================>.] - ETA: 0s - loss: 0.0444 - root_mean_squared_error: 0.2108 - r2_score: 0.9558INFO:tensorflow:Assets written to: AEModels/MIMICIV_model_240424_145624\\assets\n"
     ]
    },
    {
     "name": "stderr",
     "output_type": "stream",
     "text": [
      "INFO:tensorflow:Assets written to: AEModels/MIMICIV_model_240424_145624\\assets\n"
     ]
    },
    {
     "name": "stdout",
     "output_type": "stream",
     "text": [
      "3451/3451 [==============================] - 5s 1ms/step - loss: 0.0442 - root_mean_squared_error: 0.2102 - r2_score: 0.9558 - val_loss: 0.0290 - val_root_mean_squared_error: 0.1704 - val_r2_score: 0.9627\n",
      "Epoch 42/50\n",
      "3424/3451 [============================>.] - ETA: 0s - loss: 0.0433 - root_mean_squared_error: 0.2082 - r2_score: 0.9569INFO:tensorflow:Assets written to: AEModels/MIMICIV_model_240424_145624\\assets\n"
     ]
    },
    {
     "name": "stderr",
     "output_type": "stream",
     "text": [
      "INFO:tensorflow:Assets written to: AEModels/MIMICIV_model_240424_145624\\assets\n"
     ]
    },
    {
     "name": "stdout",
     "output_type": "stream",
     "text": [
      "3451/3451 [==============================] - 5s 1ms/step - loss: 0.0431 - root_mean_squared_error: 0.2077 - r2_score: 0.9569 - val_loss: 0.0282 - val_root_mean_squared_error: 0.1678 - val_r2_score: 0.9635\n",
      "Epoch 43/50\n",
      "3407/3451 [============================>.] - ETA: 0s - loss: 0.0424 - root_mean_squared_error: 0.2060 - r2_score: 0.9579INFO:tensorflow:Assets written to: AEModels/MIMICIV_model_240424_145624\\assets\n"
     ]
    },
    {
     "name": "stderr",
     "output_type": "stream",
     "text": [
      "INFO:tensorflow:Assets written to: AEModels/MIMICIV_model_240424_145624\\assets\n"
     ]
    },
    {
     "name": "stdout",
     "output_type": "stream",
     "text": [
      "3451/3451 [==============================] - 5s 1ms/step - loss: 0.0421 - root_mean_squared_error: 0.2052 - r2_score: 0.9579 - val_loss: 0.0273 - val_root_mean_squared_error: 0.1653 - val_r2_score: 0.9642\n",
      "Epoch 44/50\n",
      "3441/3451 [============================>.] - ETA: 0s - loss: 0.0411 - root_mean_squared_error: 0.2028 - r2_score: 0.9589INFO:tensorflow:Assets written to: AEModels/MIMICIV_model_240424_145624\\assets\n"
     ]
    },
    {
     "name": "stderr",
     "output_type": "stream",
     "text": [
      "INFO:tensorflow:Assets written to: AEModels/MIMICIV_model_240424_145624\\assets\n"
     ]
    },
    {
     "name": "stdout",
     "output_type": "stream",
     "text": [
      "3451/3451 [==============================] - 5s 1ms/step - loss: 0.0411 - root_mean_squared_error: 0.2026 - r2_score: 0.9589 - val_loss: 0.0264 - val_root_mean_squared_error: 0.1624 - val_r2_score: 0.9651\n",
      "Epoch 45/50\n",
      "3424/3451 [============================>.] - ETA: 0s - loss: 0.0401 - root_mean_squared_error: 0.2004 - r2_score: 0.9600INFO:tensorflow:Assets written to: AEModels/MIMICIV_model_240424_145624\\assets\n"
     ]
    },
    {
     "name": "stderr",
     "output_type": "stream",
     "text": [
      "INFO:tensorflow:Assets written to: AEModels/MIMICIV_model_240424_145624\\assets\n"
     ]
    },
    {
     "name": "stdout",
     "output_type": "stream",
     "text": [
      "3451/3451 [==============================] - 5s 1ms/step - loss: 0.0399 - root_mean_squared_error: 0.1998 - r2_score: 0.9601 - val_loss: 0.0254 - val_root_mean_squared_error: 0.1595 - val_r2_score: 0.9658\n",
      "Epoch 46/50\n",
      "3407/3451 [============================>.] - ETA: 0s - loss: 0.0392 - root_mean_squared_error: 0.1980 - r2_score: 0.9611INFO:tensorflow:Assets written to: AEModels/MIMICIV_model_240424_145624\\assets\n"
     ]
    },
    {
     "name": "stderr",
     "output_type": "stream",
     "text": [
      "INFO:tensorflow:Assets written to: AEModels/MIMICIV_model_240424_145624\\assets\n"
     ]
    },
    {
     "name": "stdout",
     "output_type": "stream",
     "text": [
      "3451/3451 [==============================] - 5s 1ms/step - loss: 0.0389 - root_mean_squared_error: 0.1972 - r2_score: 0.9611 - val_loss: 0.0246 - val_root_mean_squared_error: 0.1567 - val_r2_score: 0.9665\n",
      "Epoch 47/50\n",
      "3438/3451 [============================>.] - ETA: 0s - loss: 0.0378 - root_mean_squared_error: 0.1945 - r2_score: 0.9622INFO:tensorflow:Assets written to: AEModels/MIMICIV_model_240424_145624\\assets\n"
     ]
    },
    {
     "name": "stderr",
     "output_type": "stream",
     "text": [
      "INFO:tensorflow:Assets written to: AEModels/MIMICIV_model_240424_145624\\assets\n"
     ]
    },
    {
     "name": "stdout",
     "output_type": "stream",
     "text": [
      "3451/3451 [==============================] - 5s 1ms/step - loss: 0.0378 - root_mean_squared_error: 0.1943 - r2_score: 0.9622 - val_loss: 0.0237 - val_root_mean_squared_error: 0.1539 - val_r2_score: 0.9674\n",
      "Epoch 48/50\n",
      "3439/3451 [============================>.] - ETA: 0s - loss: 0.0367 - root_mean_squared_error: 0.1915 - r2_score: 0.9634INFO:tensorflow:Assets written to: AEModels/MIMICIV_model_240424_145624\\assets\n"
     ]
    },
    {
     "name": "stderr",
     "output_type": "stream",
     "text": [
      "INFO:tensorflow:Assets written to: AEModels/MIMICIV_model_240424_145624\\assets\n"
     ]
    },
    {
     "name": "stdout",
     "output_type": "stream",
     "text": [
      "3451/3451 [==============================] - 5s 1ms/step - loss: 0.0366 - root_mean_squared_error: 0.1913 - r2_score: 0.9634 - val_loss: 0.0230 - val_root_mean_squared_error: 0.1515 - val_r2_score: 0.9678\n",
      "Epoch 49/50\n",
      "3449/3451 [============================>.] - ETA: 0s - loss: 0.0355 - root_mean_squared_error: 0.1883 - r2_score: 0.9645INFO:tensorflow:Assets written to: AEModels/MIMICIV_model_240424_145624\\assets\n"
     ]
    },
    {
     "name": "stderr",
     "output_type": "stream",
     "text": [
      "INFO:tensorflow:Assets written to: AEModels/MIMICIV_model_240424_145624\\assets\n"
     ]
    },
    {
     "name": "stdout",
     "output_type": "stream",
     "text": [
      "3451/3451 [==============================] - 5s 1ms/step - loss: 0.0355 - root_mean_squared_error: 0.1883 - r2_score: 0.9645 - val_loss: 0.0220 - val_root_mean_squared_error: 0.1482 - val_r2_score: 0.9689\n",
      "Epoch 50/50\n",
      "3415/3451 [============================>.] - ETA: 0s - loss: 0.0346 - root_mean_squared_error: 0.1859 - r2_score: 0.9656INFO:tensorflow:Assets written to: AEModels/MIMICIV_model_240424_145624\\assets\n"
     ]
    },
    {
     "name": "stderr",
     "output_type": "stream",
     "text": [
      "INFO:tensorflow:Assets written to: AEModels/MIMICIV_model_240424_145624\\assets\n"
     ]
    },
    {
     "name": "stdout",
     "output_type": "stream",
     "text": [
      "3451/3451 [==============================] - 5s 1ms/step - loss: 0.0343 - root_mean_squared_error: 0.1853 - r2_score: 0.9657 - val_loss: 0.0209 - val_root_mean_squared_error: 0.1447 - val_r2_score: 0.9699\n",
      "Training Completed...\n",
      "\n",
      "Imputation Started...\n",
      "\n",
      "4314/4314 [==============================] - 3s 681us/step\n",
      "Imputation Completed...\n",
      "\n",
      "Saving the imputed data \n",
      "\n",
      "Imputed Data saved at location \"dataset/mimiciv_blood_chlorid_imp_ssl.csv\"\n"
     ]
    }
   ],
   "source": [
    "ssl_imputer = SSLImputer(data_cfg)\n",
    "ssl_imputer.build_model()\n",
    "ssl_imputer.fit(mimic_data)\n",
    "ssl_imputer.transform(test_data)"
   ]
  },
  {
   "cell_type": "code",
   "execution_count": 9,
   "metadata": {},
   "outputs": [
    {
     "data": {
      "text/plain": [
       "Index(['blood_chlorid'], dtype='object')"
      ]
     },
     "execution_count": 9,
     "metadata": {},
     "output_type": "execute_result"
    }
   ],
   "source": [
    "cols = mimic_data.columns[15:16]\n",
    "cols"
   ]
  },
  {
   "cell_type": "code",
   "execution_count": 12,
   "metadata": {},
   "outputs": [
    {
     "data": {
      "text/plain": [
       "((138021, 1), (138021, 1))"
      ]
     },
     "execution_count": 12,
     "metadata": {},
     "output_type": "execute_result"
    }
   ],
   "source": [
    "mice_imp = pd.read_csv('dataset/mimiciv_blood_chlorid_imp_mice.csv', usecols=cols)\n",
    "ssl_imp = pd.read_csv('dataset/mimiciv_blood_chlorid_imp_ssl.csv', usecols=cols)\n",
    "mf_imp = pd.read_csv('dataset/mimiciv_blood_chlorid_imp_miceforest.csv', usecols=cols)\n",
    "mice_imp.shape, ssl_imp.shape"
   ]
  },
  {
   "cell_type": "code",
   "execution_count": 13,
   "metadata": {},
   "outputs": [
    {
     "name": "stdout",
     "output_type": "stream",
     "text": [
      "blood_chlorid MICE: 0.0018 | SSL: 0.0056 | MICEForest: 0.0011\n",
      "\n"
     ]
    }
   ],
   "source": [
    "import numpy as np\n",
    "from sklearn.metrics import mean_squared_error\n",
    "\n",
    "def normalize_mse(y_true, y_pred):\n",
    "    mse = mean_squared_error(y_true, y_pred)\n",
    "    normalized_mse = mse / (np.max(y_true) - np.min(y_true))**2\n",
    "    return normalized_mse\n",
    "\n",
    "for col in cols:\n",
    "    mask = test_data[col].isna()\n",
    "    og_col = mimic_data[mask][col]\n",
    "    mice_col = mice_imp[mask][col]\n",
    "    ssl_col = ssl_imp[mask][col]\n",
    "    mf_col = mf_imp[mask][col]\n",
    "\n",
    "    mse_mice = normalize_mse(og_col, mice_col)\n",
    "    mse_ssl = normalize_mse(og_col, ssl_col)\n",
    "    mse_mf = normalize_mse(og_col, mf_col)\n",
    "\n",
    "    print(f\"{col} \", end=\"\")\n",
    "    print(f\"MICE: {round(mse_mice, 4)} | \", end=\"\")\n",
    "    print(f\"SSL: {round(mse_ssl, 4)} | \", end=\"\")\n",
    "    print(f\"MICEForest: {round(mse_mf, 4)}\")\n",
    "    print()\n"
   ]
  },
  {
   "cell_type": "code",
   "execution_count": 4,
   "metadata": {},
   "outputs": [],
   "source": [
    "imputers = [\"mice\", \"ssl\", \"miceforest\"]    # list the imputers for which yoiu want to evaluate the imputation\n",
    "eval = Evaluation()"
   ]
  },
  {
   "cell_type": "code",
   "execution_count": 7,
   "metadata": {},
   "outputs": [
    {
     "name": "stdout",
     "output_type": "stream",
     "text": [
      "Evalution of blood_chlorid for mice saved at evals/evaluations.csv.\n",
      "Evalution of blood_chlorid for ssl saved at evals/evaluations.csv.\n",
      "Evalution of blood_chlorid for miceforest saved at evals/evaluations.csv.\n"
     ]
    }
   ],
   "source": [
    "for imputer in imputers:\n",
    "    eval_cols_dict = load_eval_columns(data_cfg, imputer)\n",
    "    for i, col in enumerate(data_cfg.missing_state_vector, start=1):\n",
    "        og_col = eval_cols_dict[f\"og_{col}_{i}\"]\n",
    "        imputed_col = eval_cols_dict[f\"imputed_{col}_{i}\"]\n",
    "        eval.scores(og_col, imputed_col, data_cfg.imputed_data_path, imputer, col)"
   ]
  },
  {
   "cell_type": "code",
   "execution_count": 28,
   "metadata": {},
   "outputs": [
    {
     "data": {
      "text/html": [
       "<div>\n",
       "<style scoped>\n",
       "    .dataframe tbody tr th:only-of-type {\n",
       "        vertical-align: middle;\n",
       "    }\n",
       "\n",
       "    .dataframe tbody tr th {\n",
       "        vertical-align: top;\n",
       "    }\n",
       "\n",
       "    .dataframe thead th {\n",
       "        text-align: right;\n",
       "    }\n",
       "</style>\n",
       "<table border=\"1\" class=\"dataframe\">\n",
       "  <thead>\n",
       "    <tr style=\"text-align: right;\">\n",
       "      <th></th>\n",
       "      <th>cum_fluid_balance</th>\n",
       "      <th>state_ivfluid4h</th>\n",
       "    </tr>\n",
       "  </thead>\n",
       "  <tbody>\n",
       "    <tr>\n",
       "      <th>count</th>\n",
       "      <td>482467.000000</td>\n",
       "      <td>482467.000000</td>\n",
       "    </tr>\n",
       "    <tr>\n",
       "      <th>mean</th>\n",
       "      <td>284.129112</td>\n",
       "      <td>296.171967</td>\n",
       "    </tr>\n",
       "    <tr>\n",
       "      <th>std</th>\n",
       "      <td>361.821930</td>\n",
       "      <td>348.490029</td>\n",
       "    </tr>\n",
       "    <tr>\n",
       "      <th>min</th>\n",
       "      <td>-3500.000000</td>\n",
       "      <td>0.000000</td>\n",
       "    </tr>\n",
       "    <tr>\n",
       "      <th>25%</th>\n",
       "      <td>64.994556</td>\n",
       "      <td>70.002670</td>\n",
       "    </tr>\n",
       "    <tr>\n",
       "      <th>50%</th>\n",
       "      <td>195.016680</td>\n",
       "      <td>200.000000</td>\n",
       "    </tr>\n",
       "    <tr>\n",
       "      <th>75%</th>\n",
       "      <td>400.211955</td>\n",
       "      <td>402.010059</td>\n",
       "    </tr>\n",
       "    <tr>\n",
       "      <th>max</th>\n",
       "      <td>12886.321896</td>\n",
       "      <td>12886.321896</td>\n",
       "    </tr>\n",
       "  </tbody>\n",
       "</table>\n",
       "</div>"
      ],
      "text/plain": [
       "       cum_fluid_balance  state_ivfluid4h\n",
       "count      482467.000000    482467.000000\n",
       "mean          284.129112       296.171967\n",
       "std           361.821930       348.490029\n",
       "min         -3500.000000         0.000000\n",
       "25%            64.994556        70.002670\n",
       "50%           195.016680       200.000000\n",
       "75%           400.211955       402.010059\n",
       "max         12886.321896     12886.321896"
      ]
     },
     "execution_count": 28,
     "metadata": {},
     "output_type": "execute_result"
    }
   ],
   "source": [
    "milos_mimic = pd.read_csv(\"C:\\\\Users\\\\prath\\\\Downloads\\\\mimiciv_state_vectors_2024_april_16_vent_pinsp-peep.csv\", usecols=['cum_fluid_balance', 'state_ivfluid4h'])\n",
    "milos_mimic.describe()"
   ]
  }
 ],
 "metadata": {
  "kernelspec": {
   "display_name": "base",
   "language": "python",
   "name": "python3"
  },
  "language_info": {
   "codemirror_mode": {
    "name": "ipython",
    "version": 3
   },
   "file_extension": ".py",
   "mimetype": "text/x-python",
   "name": "python",
   "nbconvert_exporter": "python",
   "pygments_lexer": "ipython3",
   "version": "3.11.5"
  }
 },
 "nbformat": 4,
 "nbformat_minor": 2
}
